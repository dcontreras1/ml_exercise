{
 "cells": [
  {
   "cell_type": "markdown",
   "id": "450810b6",
   "metadata": {},
   "source": [
    "# Model Training to predict if a product is New or Used"
   ]
  },
  {
   "cell_type": "code",
   "execution_count": 30,
   "id": "67608b5f",
   "metadata": {},
   "outputs": [],
   "source": [
    "import pandas as pd\n",
    "import seaborn as sns\n",
    "import matplotlib.pyplot as plt\n",
    "import numpy as np\n",
    "from sklearn.model_selection import train_test_split\n",
    "from sklearn.preprocessing import StandardScaler, LabelEncoder\n",
    "from sklearn.ensemble import RandomForestClassifier\n",
    "from sklearn.linear_model import LogisticRegression\n",
    "from xgboost import XGBClassifier\n",
    "from sklearn.metrics import (\n",
    "    accuracy_score, precision_score, recall_score, f1_score,\n",
    "    classification_report, confusion_matrix, roc_auc_score\n",
    ")"
   ]
  },
  {
   "cell_type": "markdown",
   "id": "95f7a968",
   "metadata": {},
   "source": [
    "### Carga del dataset limpio"
   ]
  },
  {
   "cell_type": "code",
   "execution_count": 32,
   "id": "288f915c",
   "metadata": {},
   "outputs": [
    {
     "data": {
      "text/html": [
       "<div>\n",
       "<style scoped>\n",
       "    .dataframe tbody tr th:only-of-type {\n",
       "        vertical-align: middle;\n",
       "    }\n",
       "\n",
       "    .dataframe tbody tr th {\n",
       "        vertical-align: top;\n",
       "    }\n",
       "\n",
       "    .dataframe thead th {\n",
       "        text-align: right;\n",
       "    }\n",
       "</style>\n",
       "<table border=\"1\" class=\"dataframe\">\n",
       "  <thead>\n",
       "    <tr style=\"text-align: right;\">\n",
       "      <th></th>\n",
       "      <th>base_price</th>\n",
       "      <th>available_quantity</th>\n",
       "      <th>sold_quantity</th>\n",
       "      <th>seller_id</th>\n",
       "      <th>days_since_start</th>\n",
       "      <th>has_warranty</th>\n",
       "      <th>condition</th>\n",
       "      <th>status_active</th>\n",
       "      <th>status_closed</th>\n",
       "      <th>status_not_yet_active</th>\n",
       "      <th>status_paused</th>\n",
       "    </tr>\n",
       "  </thead>\n",
       "  <tbody>\n",
       "    <tr>\n",
       "      <th>0</th>\n",
       "      <td>80.0</td>\n",
       "      <td>1</td>\n",
       "      <td>0</td>\n",
       "      <td>74952096</td>\n",
       "      <td>3534</td>\n",
       "      <td>0</td>\n",
       "      <td>1</td>\n",
       "      <td>True</td>\n",
       "      <td>False</td>\n",
       "      <td>False</td>\n",
       "      <td>False</td>\n",
       "    </tr>\n",
       "    <tr>\n",
       "      <th>1</th>\n",
       "      <td>2650.0</td>\n",
       "      <td>1</td>\n",
       "      <td>0</td>\n",
       "      <td>42093335</td>\n",
       "      <td>3513</td>\n",
       "      <td>1</td>\n",
       "      <td>0</td>\n",
       "      <td>True</td>\n",
       "      <td>False</td>\n",
       "      <td>False</td>\n",
       "      <td>False</td>\n",
       "    </tr>\n",
       "    <tr>\n",
       "      <th>2</th>\n",
       "      <td>60.0</td>\n",
       "      <td>1</td>\n",
       "      <td>0</td>\n",
       "      <td>133384258</td>\n",
       "      <td>3529</td>\n",
       "      <td>0</td>\n",
       "      <td>0</td>\n",
       "      <td>True</td>\n",
       "      <td>False</td>\n",
       "      <td>False</td>\n",
       "      <td>False</td>\n",
       "    </tr>\n",
       "    <tr>\n",
       "      <th>3</th>\n",
       "      <td>580.0</td>\n",
       "      <td>1</td>\n",
       "      <td>0</td>\n",
       "      <td>143001605</td>\n",
       "      <td>3511</td>\n",
       "      <td>0</td>\n",
       "      <td>1</td>\n",
       "      <td>True</td>\n",
       "      <td>False</td>\n",
       "      <td>False</td>\n",
       "      <td>False</td>\n",
       "    </tr>\n",
       "    <tr>\n",
       "      <th>4</th>\n",
       "      <td>30.0</td>\n",
       "      <td>1</td>\n",
       "      <td>0</td>\n",
       "      <td>96873449</td>\n",
       "      <td>3545</td>\n",
       "      <td>1</td>\n",
       "      <td>0</td>\n",
       "      <td>True</td>\n",
       "      <td>False</td>\n",
       "      <td>False</td>\n",
       "      <td>False</td>\n",
       "    </tr>\n",
       "    <tr>\n",
       "      <th>5</th>\n",
       "      <td>310.0</td>\n",
       "      <td>1</td>\n",
       "      <td>0</td>\n",
       "      <td>93122911</td>\n",
       "      <td>3540</td>\n",
       "      <td>1</td>\n",
       "      <td>1</td>\n",
       "      <td>True</td>\n",
       "      <td>False</td>\n",
       "      <td>False</td>\n",
       "      <td>False</td>\n",
       "    </tr>\n",
       "    <tr>\n",
       "      <th>6</th>\n",
       "      <td>180.0</td>\n",
       "      <td>1</td>\n",
       "      <td>0</td>\n",
       "      <td>82247584</td>\n",
       "      <td>3502</td>\n",
       "      <td>0</td>\n",
       "      <td>0</td>\n",
       "      <td>True</td>\n",
       "      <td>False</td>\n",
       "      <td>False</td>\n",
       "      <td>False</td>\n",
       "    </tr>\n",
       "    <tr>\n",
       "      <th>7</th>\n",
       "      <td>150.0</td>\n",
       "      <td>1</td>\n",
       "      <td>0</td>\n",
       "      <td>40903230</td>\n",
       "      <td>3495</td>\n",
       "      <td>0</td>\n",
       "      <td>0</td>\n",
       "      <td>True</td>\n",
       "      <td>False</td>\n",
       "      <td>False</td>\n",
       "      <td>False</td>\n",
       "    </tr>\n",
       "    <tr>\n",
       "      <th>8</th>\n",
       "      <td>2352.0</td>\n",
       "      <td>10</td>\n",
       "      <td>0</td>\n",
       "      <td>166958416</td>\n",
       "      <td>3508</td>\n",
       "      <td>1</td>\n",
       "      <td>1</td>\n",
       "      <td>False</td>\n",
       "      <td>False</td>\n",
       "      <td>False</td>\n",
       "      <td>True</td>\n",
       "    </tr>\n",
       "    <tr>\n",
       "      <th>9</th>\n",
       "      <td>120.0</td>\n",
       "      <td>1</td>\n",
       "      <td>1</td>\n",
       "      <td>20834268</td>\n",
       "      <td>3505</td>\n",
       "      <td>0</td>\n",
       "      <td>1</td>\n",
       "      <td>True</td>\n",
       "      <td>False</td>\n",
       "      <td>False</td>\n",
       "      <td>False</td>\n",
       "    </tr>\n",
       "  </tbody>\n",
       "</table>\n",
       "</div>"
      ],
      "text/plain": [
       "   base_price  available_quantity  sold_quantity  seller_id  days_since_start  \\\n",
       "0        80.0                   1              0   74952096              3534   \n",
       "1      2650.0                   1              0   42093335              3513   \n",
       "2        60.0                   1              0  133384258              3529   \n",
       "3       580.0                   1              0  143001605              3511   \n",
       "4        30.0                   1              0   96873449              3545   \n",
       "5       310.0                   1              0   93122911              3540   \n",
       "6       180.0                   1              0   82247584              3502   \n",
       "7       150.0                   1              0   40903230              3495   \n",
       "8      2352.0                  10              0  166958416              3508   \n",
       "9       120.0                   1              1   20834268              3505   \n",
       "\n",
       "   has_warranty  condition  status_active  status_closed  \\\n",
       "0             0          1           True          False   \n",
       "1             1          0           True          False   \n",
       "2             0          0           True          False   \n",
       "3             0          1           True          False   \n",
       "4             1          0           True          False   \n",
       "5             1          1           True          False   \n",
       "6             0          0           True          False   \n",
       "7             0          0           True          False   \n",
       "8             1          1          False          False   \n",
       "9             0          1           True          False   \n",
       "\n",
       "   status_not_yet_active  status_paused  \n",
       "0                  False          False  \n",
       "1                  False          False  \n",
       "2                  False          False  \n",
       "3                  False          False  \n",
       "4                  False          False  \n",
       "5                  False          False  \n",
       "6                  False          False  \n",
       "7                  False          False  \n",
       "8                  False           True  \n",
       "9                  False          False  "
      ]
     },
     "execution_count": 32,
     "metadata": {},
     "output_type": "execute_result"
    }
   ],
   "source": [
    "df = pd.read_csv(r\"C:\\Users\\Danie\\OneDrive\\Escritorio\\training_model_exercise\\clean_dataset.csv\")\n",
    "df.head(10)"
   ]
  },
  {
   "cell_type": "markdown",
   "id": "b776b2a2",
   "metadata": {},
   "source": [
    "#### Definir features y target"
   ]
  },
  {
   "cell_type": "code",
   "execution_count": 33,
   "id": "e3b60c43",
   "metadata": {},
   "outputs": [],
   "source": [
    "X = df.drop(columns='condition')\n",
    "y = df['condition']"
   ]
  },
  {
   "cell_type": "markdown",
   "id": "20b87c23",
   "metadata": {},
   "source": [
    "#### Codificar la variable objetivo"
   ]
  },
  {
   "cell_type": "code",
   "execution_count": 34,
   "id": "716d7f7a",
   "metadata": {},
   "outputs": [],
   "source": [
    "label_encoder = LabelEncoder()\n",
    "y_encoded = label_encoder.fit_transform(y)"
   ]
  },
  {
   "cell_type": "markdown",
   "id": "d10820e2",
   "metadata": {},
   "source": [
    "#### Dividir el dataset de entrenamiento y test"
   ]
  },
  {
   "cell_type": "code",
   "execution_count": 35,
   "id": "4fc7dbec",
   "metadata": {},
   "outputs": [],
   "source": [
    "X_train, X_test, y_train, y_test = train_test_split(\n",
    "    X, y_encoded, test_size=0.2, random_state=42, stratify=y_encoded\n",
    ")"
   ]
  },
  {
   "cell_type": "markdown",
   "id": "c021032c",
   "metadata": {},
   "source": [
    "#### Escalar las variables numéricas"
   ]
  },
  {
   "cell_type": "code",
   "execution_count": 40,
   "id": "c017313f",
   "metadata": {},
   "outputs": [],
   "source": [
    "scaler = StandardScaler()\n",
    "X_train_scaled = pd.DataFrame(scaler.fit_transform(X_train), columns=X.columns, index=X_train.index)\n",
    "X_test_scaled = pd.DataFrame(scaler.transform(X_test), columns=X.columns, index=X_test.index)"
   ]
  },
  {
   "cell_type": "markdown",
   "id": "ec0f3661",
   "metadata": {},
   "source": [
    "#### Convertimos a dataframe con nombres de columnas"
   ]
  },
  {
   "cell_type": "code",
   "execution_count": 41,
   "id": "80589098",
   "metadata": {},
   "outputs": [],
   "source": [
    "X_train_scaled_df = pd.DataFrame(X_train_scaled, columns=X.columns)\n",
    "X_test_scaled_df = pd.DataFrame(X_test_scaled, columns=X.columns)"
   ]
  },
  {
   "cell_type": "markdown",
   "id": "093aae28",
   "metadata": {},
   "source": [
    "#### Entrenar los modelos y comparar los porcentajes"
   ]
  },
  {
   "cell_type": "code",
   "execution_count": 42,
   "id": "00959695",
   "metadata": {},
   "outputs": [],
   "source": [
    "models = {\n",
    "    'Logistic Regression': LogisticRegression(max_iter=1000, random_state=42),\n",
    "    'Random Forest': RandomForestClassifier(random_state=42),\n",
    "    'XGBoost': XGBClassifier(eval_metric='logloss', random_state=42)\n",
    "}\n",
    "\n",
    "results = []\n",
    "\n",
    "for name, model in models.items():\n",
    "    model.fit(X_train_scaled, y_train)\n",
    "    y_pred = model.predict(X_test_scaled)\n",
    "    y_pred_proba = model.predict_proba(X_test)\n",
    "\n",
    "\n",
    "    metrics = {\n",
    "        'Model': name,\n",
    "        'Accuracy': accuracy_score(y_test, y_pred),\n",
    "        'Precision': precision_score(y_test, y_pred),\n",
    "        'Recall': recall_score(y_test, y_pred),\n",
    "        'F1-score': f1_score(y_test, y_pred),\n",
    "        'ROC AUC': roc_auc_score(y_test, y_pred_proba[:, 1])\n",
    "    }\n",
    "\n",
    "    results.append(metrics)"
   ]
  },
  {
   "cell_type": "markdown",
   "id": "e98916f0",
   "metadata": {},
   "source": [
    "### Resultados de las métricas de los modelos"
   ]
  },
  {
   "cell_type": "code",
   "execution_count": 43,
   "id": "315aaa74",
   "metadata": {},
   "outputs": [
    {
     "name": "stdout",
     "output_type": "stream",
     "text": [
      "                     Accuracy  Precision    Recall  F1-score   ROC AUC\n",
      "Model                                                                 \n",
      "Logistic Regression   0.67680   0.715824  0.661365  0.687518  0.500000\n",
      "Random Forest         0.81050   0.849077  0.787481  0.817120  0.538474\n",
      "XGBoost               0.81945   0.877312  0.772135  0.821370  0.745807\n"
     ]
    },
    {
     "data": {
      "image/png": "[encoded data removed]",
      "text/plain": [
       "<Figure size 1200x600 with 1 Axes>"
      ]
     },
     "metadata": {},
     "output_type": "display_data"
    }
   ],
   "source": [
    "results_df = pd.DataFrame(results).set_index('Model')\n",
    "print(results_df)\n",
    "\n",
    "results_df.plot(kind='bar', figsize=(12, 6), title='Comparación de Modelos')\n",
    "plt.ylabel('Score')\n",
    "plt.xticks(rotation=0)\n",
    "plt.grid(axis='y')\n",
    "plt.tight_layout()\n",
    "plt.show()"
   ]
  }
 ],
 "metadata": {
  "kernelspec": {
   "display_name": "venv",
   "language": "python",
   "name": "python3"
  },
  "language_info": {
   "codemirror_mode": {
    "name": "ipython",
    "version": 3
   },
   "file_extension": ".py",
   "mimetype": "text/x-python",
   "name": "python",
   "nbconvert_exporter": "python",
   "pygments_lexer": "ipython3",
   "version": "3.12.10"
  }
 },
 "nbformat": 4,
 "nbformat_minor": 5
}
